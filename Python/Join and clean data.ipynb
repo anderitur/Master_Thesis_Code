{
 "cells": [
  {
   "cell_type": "code",
   "execution_count": 1,
   "metadata": {},
   "outputs": [],
   "source": [
    "#Import libraries\n",
    "import pandas as pd\n",
    "import numpy as np"
   ]
  },
  {
   "cell_type": "code",
   "execution_count": 2,
   "metadata": {},
   "outputs": [],
   "source": [
    "#Download meteorology data\n",
    "met = pd.read_json(\"weathergood.json\")"
   ]
  },
  {
   "cell_type": "code",
   "execution_count": 3,
   "metadata": {},
   "outputs": [],
   "source": [
    "#Preprocessing of meteorology variables\n",
    "met = met.drop(['indicativo','nombre','provincia','altitud','horatmin','horatmax','dir','horaracha',\n",
    "              'presMax','horaPresMax','presMin','horaPresMin'],axis=1)"
   ]
  },
  {
   "cell_type": "code",
   "execution_count": 4,
   "metadata": {},
   "outputs": [],
   "source": [
    "met.loc[met[\"prec\"] == \"Ip\", \"prec\"] = \"0,05\""
   ]
  },
  {
   "cell_type": "code",
   "execution_count": 5,
   "metadata": {},
   "outputs": [],
   "source": [
    "met[\"velmedia\"] = met[\"velmedia\"].astype(\"str\")\n",
    "met[\"racha\"] = met[\"racha\"].astype(\"str\")\n",
    "met[\"tmed\"] = met[\"tmed\"].astype(\"str\")\n",
    "met[\"prec\"] = met[\"prec\"].astype(\"str\")\n",
    "met[\"tmin\"] = met[\"tmin\"].astype(\"str\")\n",
    "met[\"tmax\"] = met[\"tmax\"].astype(\"str\")"
   ]
  },
  {
   "cell_type": "code",
   "execution_count": 6,
   "metadata": {},
   "outputs": [],
   "source": [
    "met['tmed'] = [x.replace(',', '.') for x in met['tmed']]\n",
    "met['prec'] = [x.replace(',', '.') for x in met['prec']]\n",
    "met['tmin'] = [x.replace(',', '.') for x in met['tmin']]\n",
    "met['tmax'] = [x.replace(',', '.') for x in met['tmax']]\n",
    "met['velmedia'] = [x.replace(',', '.') for x in met['velmedia']]\n",
    "met['racha'] = [x.replace(',', '.') for x in met['racha']]"
   ]
  },
  {
   "cell_type": "code",
   "execution_count": 7,
   "metadata": {},
   "outputs": [],
   "source": [
    "met[\"tmed\"] = met[\"tmed\"].astype(\"float64\")\n",
    "met[\"prec\"] = met[\"prec\"].astype(\"float64\")\n",
    "met[\"tmin\"] = met[\"tmin\"].astype(\"float64\")\n",
    "met[\"tmax\"] = met[\"tmax\"].astype(\"float64\")\n",
    "met[\"velmedia\"] = met[\"velmedia\"].astype(\"float64\")\n",
    "met[\"racha\"] = met[\"racha\"].astype(\"float64\")"
   ]
  },
  {
   "cell_type": "code",
   "execution_count": 8,
   "metadata": {},
   "outputs": [],
   "source": [
    "# Create binary precipitation variable\n",
    "med=np.median(met[\"prec\"])\n",
    "for i in range(met.shape[0]):\n",
    "    if met[\"prec\"][i] <= med:\n",
    "        met.loc[i, \"prec\"] = \"0\"\n",
    "    elif met[\"prec\"][i] > med:\n",
    "        met.loc[i, \"prec\"]=\"1\""
   ]
  },
  {
   "cell_type": "code",
   "execution_count": 9,
   "metadata": {
    "scrolled": true
   },
   "outputs": [],
   "source": [
    "met[\"prec\"] = met[\"prec\"].astype(\"category\")"
   ]
  },
  {
   "cell_type": "code",
   "execution_count": 10,
   "metadata": {},
   "outputs": [],
   "source": [
    "#Download emergency calls data\n",
    "calls = pd.read_csv(\"calls.csv\")"
   ]
  },
  {
   "cell_type": "code",
   "execution_count": 11,
   "metadata": {},
   "outputs": [],
   "source": [
    "#Add meteorological data to emergency calls\n",
    "calls[\"tmed\"] = met[\"tmed\"]\n",
    "calls[\"prec\"] = met[\"prec\"]\n",
    "calls[\"tmin\"] = met[\"tmin\"]\n",
    "calls[\"tmax\"] = met[\"tmax\"]\n",
    "calls[\"velmedia\"] = met[\"velmedia\"]\n",
    "calls[\"racha\"] = met[\"racha\"]"
   ]
  },
  {
   "cell_type": "code",
   "execution_count": 12,
   "metadata": {},
   "outputs": [],
   "source": [
    "#Save final dataset\n",
    "calls.to_csv(\"calls_final.csv\")"
   ]
  }
 ],
 "metadata": {
  "kernelspec": {
   "display_name": "Python 3",
   "language": "python",
   "name": "python3"
  },
  "language_info": {
   "codemirror_mode": {
    "name": "ipython",
    "version": 3
   },
   "file_extension": ".py",
   "mimetype": "text/x-python",
   "name": "python",
   "nbconvert_exporter": "python",
   "pygments_lexer": "ipython3",
   "version": "3.8.5"
  }
 },
 "nbformat": 4,
 "nbformat_minor": 4
}
