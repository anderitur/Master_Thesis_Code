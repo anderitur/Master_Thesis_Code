{
 "cells": [
  {
   "cell_type": "code",
   "execution_count": 1,
   "id": "liberal-orlando",
   "metadata": {},
   "outputs": [],
   "source": [
    "#Import libraries\n",
    "import numpy as np\n",
    "import pandas as pd\n",
    "import tensorflow as tf"
   ]
  },
  {
   "cell_type": "code",
   "execution_count": 2,
   "id": "collected-times",
   "metadata": {},
   "outputs": [],
   "source": [
    "#Download data\n",
    "data = pd.read_csv(\"../calls_final.csv\")"
   ]
  },
  {
   "cell_type": "code",
   "execution_count": 3,
   "id": "ordered-samuel",
   "metadata": {},
   "outputs": [],
   "source": [
    "#Preprocessing\n",
    "data = data.drop([\"Unnamed: 0\",\"Unnamed: 0.1\",\"tmed\",\"tmin\",\"tmax\",\"velmedia\",\"racha\"],axis=1)"
   ]
  },
  {
   "cell_type": "code",
   "execution_count": 4,
   "id": "major-powell",
   "metadata": {},
   "outputs": [],
   "source": [
    "data[\"type0\"] = data[\"type0\"].astype(np.int32)\n",
    "data[\"type1\"] = data[\"type1\"].astype(np.int32)\n",
    "data[\"type2\"] = data[\"type2\"].astype(np.int32)\n",
    "data[\"type3\"] = data[\"type3\"].astype(np.int32)\n",
    "data[\"wd\"] = data[\"wd\"].astype(\"category\")\n",
    "data[\"prec\"] = data[\"prec\"].astype(\"int\").astype(\"category\")"
   ]
  },
  {
   "cell_type": "code",
   "execution_count": 5,
   "id": "attractive-metallic",
   "metadata": {},
   "outputs": [],
   "source": [
    "date = data[\"d\"].astype(\"str\")+\"-\"+data[\"m\"].astype(\"str\")+\"-\"+(data[\"y\"]+6).astype(\"str\")\n",
    "date = pd.to_datetime(date, dayfirst=True, format='%d-%m-%Y')\n",
    "data = data.drop([\"d\",\"y\",'m'],axis=1)"
   ]
  },
  {
   "cell_type": "code",
   "execution_count": 6,
   "id": "awful-effectiveness",
   "metadata": {},
   "outputs": [],
   "source": [
    "data = data.drop([\"type1\",\"type2\",\"type3\"],axis=1)"
   ]
  },
  {
   "cell_type": "code",
   "execution_count": 7,
   "id": "handy-disposal",
   "metadata": {},
   "outputs": [],
   "source": [
    "data = pd.concat([data.drop(\"wd\",axis=1), pd.get_dummies(data['wd'],prefix=\"wd\",drop_first=True)], axis=1)"
   ]
  },
  {
   "cell_type": "code",
   "execution_count": 8,
   "id": "primary-escape",
   "metadata": {},
   "outputs": [],
   "source": [
    "col = data.columns\n",
    "\n",
    "n = len(data)\n",
    "train_0 = data[0:int(n*0.7)]\n",
    "val_0 = data[int(n*0.7):int(n*0.9)]\n",
    "test_0 = data[int(n*0.9):]"
   ]
  },
  {
   "cell_type": "code",
   "execution_count": 9,
   "id": "talented-philadelphia",
   "metadata": {},
   "outputs": [
    {
     "name": "stdout",
     "output_type": "stream",
     "text": [
      "Training data: from 2007-09-01 00:00:00 to 2015-06-25 00:00:00\n",
      "Validation data: from 2015-06-26 00:00:00 to 2017-09-18 00:00:00\n",
      "Testing data: from 2017-09-19 00:00:00 to 2018-10-31 00:00:00\n"
     ]
    }
   ],
   "source": [
    "print(f'Training data: from {min(date[0:int(n*0.7)])} to {max(date[0:int(n*0.7)])}')\n",
    "print(f'Validation data: from {min(date[int(n*0.7):int(n*0.9)])} to {max(date[int(n*0.7):int(n*0.9)])}')\n",
    "print(f'Testing data: from {min(date[int(n*0.9):])} to {max(date[int(n*0.9):])}')"
   ]
  },
  {
   "cell_type": "code",
   "execution_count": 10,
   "id": "hidden-third",
   "metadata": {},
   "outputs": [
    {
     "name": "stderr",
     "output_type": "stream",
     "text": [
      "<ipython-input-10-f791a01ac34e>:4: SettingWithCopyWarning: \n",
      "A value is trying to be set on a copy of a slice from a DataFrame.\n",
      "Try using .loc[row_indexer,col_indexer] = value instead\n",
      "\n",
      "See the caveats in the documentation: https://pandas.pydata.org/pandas-docs/stable/user_guide/indexing.html#returning-a-view-versus-a-copy\n",
      "  train_0[\"type0\"]=(train_0[\"type0\"]-minx)/(maxx-minx)\n",
      "<ipython-input-10-f791a01ac34e>:5: SettingWithCopyWarning: \n",
      "A value is trying to be set on a copy of a slice from a DataFrame.\n",
      "Try using .loc[row_indexer,col_indexer] = value instead\n",
      "\n",
      "See the caveats in the documentation: https://pandas.pydata.org/pandas-docs/stable/user_guide/indexing.html#returning-a-view-versus-a-copy\n",
      "  val_0[\"type0\"]=(val_0[\"type0\"]-minx)/(maxx-minx)\n",
      "<ipython-input-10-f791a01ac34e>:6: SettingWithCopyWarning: \n",
      "A value is trying to be set on a copy of a slice from a DataFrame.\n",
      "Try using .loc[row_indexer,col_indexer] = value instead\n",
      "\n",
      "See the caveats in the documentation: https://pandas.pydata.org/pandas-docs/stable/user_guide/indexing.html#returning-a-view-versus-a-copy\n",
      "  test_0[\"type0\"]=(test_0[\"type0\"]-minx)/(maxx-minx)\n"
     ]
    }
   ],
   "source": [
    "#Min-max scaler\n",
    "minx = min(train_0[\"type0\"])\n",
    "maxx = max(train_0[\"type0\"])\n",
    "\n",
    "train_0[\"type0\"] = (train_0[\"type0\"] - minx) / (maxx - minx)\n",
    "val_0[\"type0\"] = (val_0[\"type0\"] - minx) / (maxx - minx)\n",
    "test_0[\"type0\"] = (test_0[\"type0\"] - minx) / (maxx - minx)\n",
    "data[\"type0\"] = (data[\"type0\"] - minx) / (maxx - minx)"
   ]
  },
  {
   "cell_type": "code",
   "execution_count": 11,
   "id": "loved-remark",
   "metadata": {},
   "outputs": [],
   "source": [
    "# Window Generator for everything\n",
    "class WindowGenerator():\n",
    "    def __init__(self, input_width, label_width, shift,\n",
    "               train_df=train_0, val_df=val_0, test_df=test_0,\n",
    "               full_df=data,label_columns=None):\n",
    "        # Store the raw data.\n",
    "        self.train_df = train_df\n",
    "        self.val_df = val_df\n",
    "        self.test_df = test_df\n",
    "        self.full_df = full_df\n",
    "        # Work out the label column indices.\n",
    "        self.label_columns = label_columns\n",
    "        if label_columns is not None:\n",
    "            self.label_columns_indices = {name: i for i, name in\n",
    "                                        enumerate(label_columns)}\n",
    "        self.column_indices = {name: i for i, name in\n",
    "                               enumerate(train_df.columns)}\n",
    "        # Work out the window parameters.\n",
    "        self.input_width = input_width #Input of each batch\n",
    "        self.label_width = label_width #Prediction of each batch\n",
    "        self.shift = shift\n",
    "        self.total_window_size = input_width + shift\n",
    "        self.input_slice = slice(0, input_width)\n",
    "        self.input_indices = np.arange(self.total_window_size)[self.input_slice]\n",
    "        self.label_start = self.total_window_size - self.label_width\n",
    "        self.labels_slice = slice(self.label_start, None)\n",
    "        self.label_indices = np.arange(self.total_window_size)[self.labels_slice]\n",
    "    def __repr__(self):\n",
    "        return '\\n'.join([\n",
    "            f'Total window size: {self.total_window_size}',\n",
    "            f'Input indices: {self.input_indices}',\n",
    "            f'Label indices: {self.label_indices}',\n",
    "            f'Label column name(s): {self.label_columns}'])\n",
    "def split_window(self, features):\n",
    "    inputs = features[:, self.input_slice, :]\n",
    "    labels = features[:, self.labels_slice, :]\n",
    "    if self.label_columns is not None:\n",
    "        labels = tf.stack(\n",
    "            [labels[:, :, self.column_indices[name]] for name in self.label_columns],\n",
    "            axis=-1)\n",
    "    # Slicing doesn't preserve static shape information, so set the shapes\n",
    "    # manually. This way the `tf.data.Datasets` are easier to inspect.\n",
    "    inputs.set_shape([None, self.input_width, None])\n",
    "    labels.set_shape([None, self.label_width, None])\n",
    "    return inputs, labels\n",
    "\n",
    "WindowGenerator.split_window = split_window\n",
    "\n",
    "\n",
    "def make_dataset(self, data):\n",
    "    data = np.array(data, dtype=np.float32)\n",
    "    ds = tf.keras.preprocessing.timeseries_dataset_from_array(\n",
    "      data=data,\n",
    "      targets=None,\n",
    "      sequence_length=self.total_window_size,\n",
    "      sequence_stride=1,\n",
    "      batch_size=28*2,)\n",
    "    ds = ds.map(self.split_window)\n",
    "    return ds\n",
    "\n",
    "WindowGenerator.make_dataset = make_dataset\n",
    "\n",
    "@property\n",
    "def train(self):\n",
    "    return self.make_dataset(self.train_df)\n",
    "\n",
    "@property\n",
    "def val(self):\n",
    "    return self.make_dataset(self.val_df)\n",
    "\n",
    "@property\n",
    "def test(self):\n",
    "    return self.make_dataset(self.test_df)\n",
    "\n",
    "@property\n",
    "def full(self):\n",
    "    return self.make_dataset(self.full_df)\n",
    "\n",
    "WindowGenerator.train = train\n",
    "WindowGenerator.val = val\n",
    "WindowGenerator.test = test\n",
    "WindowGenerator.full = full\n"
   ]
  },
  {
   "cell_type": "code",
   "execution_count": 12,
   "id": "detected-swaziland",
   "metadata": {},
   "outputs": [],
   "source": [
    "#Modelling\n",
    "tf.random.set_seed(613)\n",
    "\n",
    "MAX_EPOCHS = 80\n",
    "INPUT_WIDTH = 7*3 # Days of input in each batch\n",
    "OUT_STEPS = 7\n",
    "LABEL_WIDTH = 7 # Days of predictions\n",
    "num_features = 8\n",
    "multi_window = WindowGenerator(input_width=INPUT_WIDTH,\n",
    "                               label_width=LABEL_WIDTH, shift=OUT_STEPS, train_df=train_0, \n",
    "                               val_df=val_0, test_df=test_0,\n",
    "                                label_columns=[\"type0\"])"
   ]
  },
  {
   "cell_type": "code",
   "execution_count": 13,
   "id": "searching-letter",
   "metadata": {},
   "outputs": [],
   "source": [
    "#Define model\n",
    "model = tf.keras.Sequential()\n",
    "\n",
    "\n",
    "model.add(tf.keras.layers.Bidirectional(tf.keras.layers.LSTM(16, \n",
    "                             return_sequences=False,\n",
    "                            #recurrent_dropout = 0.1,\n",
    "                             #dropout = 0.05,\n",
    "                                activation=\"relu\")))\n",
    "\n",
    "model.add(tf.keras.layers.Dense(OUT_STEPS*1,\n",
    "                          kernel_initializer=tf.initializers.zeros))\n",
    "\n",
    "model.add(tf.keras.layers.Reshape([OUT_STEPS, 1]))"
   ]
  },
  {
   "cell_type": "code",
   "execution_count": 14,
   "id": "informative-basic",
   "metadata": {
    "scrolled": true
   },
   "outputs": [
    {
     "name": "stdout",
     "output_type": "stream",
     "text": [
      "WARNING:tensorflow:AutoGraph could not transform <bound method split_window of Total window size: 28\n",
      "Input indices: [ 0  1  2  3  4  5  6  7  8  9 10 11 12 13 14 15 16 17 18 19 20]\n",
      "Label indices: [21 22 23 24 25 26 27]\n",
      "Label column name(s): ['type0']> and will run it as-is.\n",
      "Please report this to the TensorFlow team. When filing the bug, set the verbosity to 10 (on Linux, `export AUTOGRAPH_VERBOSITY=10`) and attach the full output.\n",
      "Cause: module 'gast' has no attribute 'Index'\n",
      "To silence this warning, decorate the function with @tf.autograph.experimental.do_not_convert\n",
      "WARNING: AutoGraph could not transform <bound method split_window of Total window size: 28\n",
      "Input indices: [ 0  1  2  3  4  5  6  7  8  9 10 11 12 13 14 15 16 17 18 19 20]\n",
      "Label indices: [21 22 23 24 25 26 27]\n",
      "Label column name(s): ['type0']> and will run it as-is.\n",
      "Please report this to the TensorFlow team. When filing the bug, set the verbosity to 10 (on Linux, `export AUTOGRAPH_VERBOSITY=10`) and attach the full output.\n",
      "Cause: module 'gast' has no attribute 'Index'\n",
      "To silence this warning, decorate the function with @tf.autograph.experimental.do_not_convert\n",
      "Epoch 1/80\n",
      "51/51 [==============================] - 1s 12ms/step - loss: 0.1128 - mean_absolute_error: 0.1128 - val_loss: 0.1103 - val_mean_absolute_error: 0.1103\n",
      "Epoch 2/80\n",
      "51/51 [==============================] - 0s 6ms/step - loss: 0.0684 - mean_absolute_error: 0.0684 - val_loss: 0.0987 - val_mean_absolute_error: 0.0987\n",
      "Epoch 3/80\n",
      "51/51 [==============================] - 0s 6ms/step - loss: 0.0691 - mean_absolute_error: 0.0691 - val_loss: 0.0987 - val_mean_absolute_error: 0.0987\n",
      "Epoch 4/80\n",
      "51/51 [==============================] - 0s 7ms/step - loss: 0.0688 - mean_absolute_error: 0.0688 - val_loss: 0.0983 - val_mean_absolute_error: 0.0983\n",
      "Epoch 5/80\n",
      "51/51 [==============================] - 0s 6ms/step - loss: 0.0686 - mean_absolute_error: 0.0686 - val_loss: 0.0982 - val_mean_absolute_error: 0.0982\n",
      "Epoch 6/80\n",
      "51/51 [==============================] - 0s 6ms/step - loss: 0.0683 - mean_absolute_error: 0.0683 - val_loss: 0.0977 - val_mean_absolute_error: 0.0977\n",
      "Epoch 7/80\n",
      "51/51 [==============================] - 0s 6ms/step - loss: 0.0682 - mean_absolute_error: 0.0682 - val_loss: 0.0975 - val_mean_absolute_error: 0.0975\n",
      "Epoch 8/80\n",
      "51/51 [==============================] - 0s 7ms/step - loss: 0.0681 - mean_absolute_error: 0.0681 - val_loss: 0.0968 - val_mean_absolute_error: 0.0968\n",
      "Epoch 9/80\n",
      "51/51 [==============================] - 0s 6ms/step - loss: 0.0680 - mean_absolute_error: 0.0680 - val_loss: 0.0964 - val_mean_absolute_error: 0.0964\n",
      "Epoch 10/80\n",
      "51/51 [==============================] - 0s 7ms/step - loss: 0.0678 - mean_absolute_error: 0.0678 - val_loss: 0.0958 - val_mean_absolute_error: 0.0958\n",
      "Epoch 11/80\n",
      "51/51 [==============================] - 0s 6ms/step - loss: 0.0677 - mean_absolute_error: 0.0677 - val_loss: 0.0953 - val_mean_absolute_error: 0.0953\n",
      "Epoch 12/80\n",
      "51/51 [==============================] - 0s 6ms/step - loss: 0.0676 - mean_absolute_error: 0.0676 - val_loss: 0.0948 - val_mean_absolute_error: 0.0948\n",
      "Epoch 13/80\n",
      "51/51 [==============================] - 0s 7ms/step - loss: 0.0675 - mean_absolute_error: 0.0675 - val_loss: 0.0945 - val_mean_absolute_error: 0.0945\n",
      "Epoch 14/80\n",
      "51/51 [==============================] - 0s 7ms/step - loss: 0.0674 - mean_absolute_error: 0.0674 - val_loss: 0.0942 - val_mean_absolute_error: 0.0942\n",
      "Epoch 15/80\n",
      "51/51 [==============================] - 0s 7ms/step - loss: 0.0673 - mean_absolute_error: 0.0673 - val_loss: 0.0939 - val_mean_absolute_error: 0.0939\n",
      "Epoch 16/80\n",
      "51/51 [==============================] - 0s 7ms/step - loss: 0.0672 - mean_absolute_error: 0.0672 - val_loss: 0.0934 - val_mean_absolute_error: 0.0934\n",
      "Epoch 17/80\n",
      "51/51 [==============================] - 0s 7ms/step - loss: 0.0671 - mean_absolute_error: 0.0671 - val_loss: 0.0930 - val_mean_absolute_error: 0.0930\n",
      "Epoch 18/80\n",
      "51/51 [==============================] - 0s 7ms/step - loss: 0.0670 - mean_absolute_error: 0.0670 - val_loss: 0.0926 - val_mean_absolute_error: 0.0926\n",
      "Epoch 19/80\n",
      "51/51 [==============================] - 0s 7ms/step - loss: 0.0670 - mean_absolute_error: 0.0670 - val_loss: 0.0923 - val_mean_absolute_error: 0.0923\n",
      "Epoch 20/80\n",
      "51/51 [==============================] - 0s 7ms/step - loss: 0.0669 - mean_absolute_error: 0.0669 - val_loss: 0.0918 - val_mean_absolute_error: 0.0918\n",
      "Epoch 21/80\n",
      "51/51 [==============================] - 0s 7ms/step - loss: 0.0668 - mean_absolute_error: 0.0668 - val_loss: 0.0912 - val_mean_absolute_error: 0.0912\n",
      "Epoch 22/80\n",
      "51/51 [==============================] - 0s 7ms/step - loss: 0.0668 - mean_absolute_error: 0.0668 - val_loss: 0.0911 - val_mean_absolute_error: 0.0911\n",
      "Epoch 23/80\n",
      "51/51 [==============================] - 0s 8ms/step - loss: 0.0667 - mean_absolute_error: 0.0667 - val_loss: 0.0907 - val_mean_absolute_error: 0.0907\n",
      "Epoch 24/80\n",
      "51/51 [==============================] - 0s 7ms/step - loss: 0.0666 - mean_absolute_error: 0.0666 - val_loss: 0.0906 - val_mean_absolute_error: 0.0906\n",
      "Epoch 25/80\n",
      "51/51 [==============================] - 0s 7ms/step - loss: 0.0665 - mean_absolute_error: 0.0665 - val_loss: 0.0900 - val_mean_absolute_error: 0.0900\n",
      "Epoch 26/80\n",
      "51/51 [==============================] - 0s 7ms/step - loss: 0.0665 - mean_absolute_error: 0.0665 - val_loss: 0.0897 - val_mean_absolute_error: 0.0897\n",
      "Epoch 27/80\n",
      "51/51 [==============================] - 0s 7ms/step - loss: 0.0664 - mean_absolute_error: 0.0664 - val_loss: 0.0893 - val_mean_absolute_error: 0.0893\n",
      "Epoch 28/80\n",
      "51/51 [==============================] - 0s 8ms/step - loss: 0.0664 - mean_absolute_error: 0.0664 - val_loss: 0.0890 - val_mean_absolute_error: 0.0890\n",
      "Epoch 29/80\n",
      "51/51 [==============================] - 0s 8ms/step - loss: 0.0664 - mean_absolute_error: 0.0664 - val_loss: 0.0887 - val_mean_absolute_error: 0.0887\n",
      "Epoch 30/80\n",
      "51/51 [==============================] - 0s 8ms/step - loss: 0.0663 - mean_absolute_error: 0.0663 - val_loss: 0.0886 - val_mean_absolute_error: 0.0886\n",
      "Epoch 31/80\n",
      "51/51 [==============================] - 0s 8ms/step - loss: 0.0662 - mean_absolute_error: 0.0662 - val_loss: 0.0883 - val_mean_absolute_error: 0.0883\n",
      "Epoch 32/80\n",
      "51/51 [==============================] - 0s 8ms/step - loss: 0.0661 - mean_absolute_error: 0.0661 - val_loss: 0.0879 - val_mean_absolute_error: 0.0879\n",
      "Epoch 33/80\n",
      "51/51 [==============================] - 0s 8ms/step - loss: 0.0661 - mean_absolute_error: 0.0661 - val_loss: 0.0876 - val_mean_absolute_error: 0.0876\n",
      "Epoch 34/80\n",
      "51/51 [==============================] - 0s 8ms/step - loss: 0.0661 - mean_absolute_error: 0.0661 - val_loss: 0.0874 - val_mean_absolute_error: 0.0874\n",
      "Epoch 35/80\n",
      "51/51 [==============================] - 0s 8ms/step - loss: 0.0660 - mean_absolute_error: 0.0660 - val_loss: 0.0872 - val_mean_absolute_error: 0.0872\n",
      "Epoch 36/80\n",
      "51/51 [==============================] - 0s 8ms/step - loss: 0.0660 - mean_absolute_error: 0.0660 - val_loss: 0.0871 - val_mean_absolute_error: 0.0871\n",
      "Epoch 37/80\n",
      "51/51 [==============================] - 0s 8ms/step - loss: 0.0659 - mean_absolute_error: 0.0659 - val_loss: 0.0868 - val_mean_absolute_error: 0.0868\n",
      "Epoch 38/80\n",
      "51/51 [==============================] - 0s 9ms/step - loss: 0.0659 - mean_absolute_error: 0.0659 - val_loss: 0.0867 - val_mean_absolute_error: 0.0867\n",
      "Epoch 39/80\n",
      "51/51 [==============================] - 0s 9ms/step - loss: 0.0658 - mean_absolute_error: 0.0658 - val_loss: 0.0866 - val_mean_absolute_error: 0.0866\n",
      "Epoch 40/80\n",
      "51/51 [==============================] - 0s 8ms/step - loss: 0.0658 - mean_absolute_error: 0.0658 - val_loss: 0.0864 - val_mean_absolute_error: 0.0864\n",
      "Epoch 41/80\n",
      "51/51 [==============================] - 0s 8ms/step - loss: 0.0657 - mean_absolute_error: 0.0657 - val_loss: 0.0863 - val_mean_absolute_error: 0.0863\n",
      "Epoch 42/80\n",
      "51/51 [==============================] - 0s 8ms/step - loss: 0.0657 - mean_absolute_error: 0.0657 - val_loss: 0.0861 - val_mean_absolute_error: 0.0861\n",
      "Epoch 43/80\n",
      "51/51 [==============================] - 0s 8ms/step - loss: 0.0657 - mean_absolute_error: 0.0657 - val_loss: 0.0860 - val_mean_absolute_error: 0.0860\n",
      "Epoch 44/80\n"
     ]
    },
    {
     "name": "stdout",
     "output_type": "stream",
     "text": [
      "51/51 [==============================] - 0s 8ms/step - loss: 0.0656 - mean_absolute_error: 0.0656 - val_loss: 0.0859 - val_mean_absolute_error: 0.0859\n",
      "Epoch 45/80\n",
      "51/51 [==============================] - 0s 8ms/step - loss: 0.0656 - mean_absolute_error: 0.0656 - val_loss: 0.0858 - val_mean_absolute_error: 0.0858\n",
      "Epoch 46/80\n",
      "51/51 [==============================] - 0s 8ms/step - loss: 0.0655 - mean_absolute_error: 0.0655 - val_loss: 0.0857 - val_mean_absolute_error: 0.0857\n",
      "Epoch 47/80\n",
      "51/51 [==============================] - 0s 8ms/step - loss: 0.0655 - mean_absolute_error: 0.0655 - val_loss: 0.0856 - val_mean_absolute_error: 0.0856\n",
      "Epoch 48/80\n",
      "51/51 [==============================] - 0s 8ms/step - loss: 0.0655 - mean_absolute_error: 0.0655 - val_loss: 0.0855 - val_mean_absolute_error: 0.0855\n",
      "Epoch 49/80\n",
      "51/51 [==============================] - 0s 8ms/step - loss: 0.0655 - mean_absolute_error: 0.0655 - val_loss: 0.0854 - val_mean_absolute_error: 0.0854\n",
      "Epoch 50/80\n",
      "51/51 [==============================] - 0s 8ms/step - loss: 0.0655 - mean_absolute_error: 0.0655 - val_loss: 0.0853 - val_mean_absolute_error: 0.0853\n",
      "Epoch 51/80\n",
      "51/51 [==============================] - 0s 8ms/step - loss: 0.0654 - mean_absolute_error: 0.0654 - val_loss: 0.0852 - val_mean_absolute_error: 0.0852\n",
      "Epoch 52/80\n",
      "51/51 [==============================] - 0s 8ms/step - loss: 0.0654 - mean_absolute_error: 0.0654 - val_loss: 0.0851 - val_mean_absolute_error: 0.0851\n",
      "Epoch 53/80\n",
      "51/51 [==============================] - 0s 8ms/step - loss: 0.0654 - mean_absolute_error: 0.0654 - val_loss: 0.0850 - val_mean_absolute_error: 0.0850\n",
      "Epoch 54/80\n",
      "51/51 [==============================] - 0s 8ms/step - loss: 0.0654 - mean_absolute_error: 0.0654 - val_loss: 0.0850 - val_mean_absolute_error: 0.0850\n",
      "Epoch 55/80\n",
      "51/51 [==============================] - 0s 8ms/step - loss: 0.0654 - mean_absolute_error: 0.0654 - val_loss: 0.0849 - val_mean_absolute_error: 0.0849\n",
      "Epoch 56/80\n",
      "51/51 [==============================] - 0s 8ms/step - loss: 0.0653 - mean_absolute_error: 0.0653 - val_loss: 0.0848 - val_mean_absolute_error: 0.0848\n",
      "Epoch 57/80\n",
      "51/51 [==============================] - 0s 8ms/step - loss: 0.0653 - mean_absolute_error: 0.0653 - val_loss: 0.0847 - val_mean_absolute_error: 0.0847\n",
      "Epoch 58/80\n",
      "51/51 [==============================] - 0s 9ms/step - loss: 0.0653 - mean_absolute_error: 0.0653 - val_loss: 0.0846 - val_mean_absolute_error: 0.0846\n",
      "Epoch 59/80\n",
      "51/51 [==============================] - 0s 8ms/step - loss: 0.0653 - mean_absolute_error: 0.0653 - val_loss: 0.0846 - val_mean_absolute_error: 0.0846\n",
      "Epoch 60/80\n",
      "51/51 [==============================] - 0s 9ms/step - loss: 0.0653 - mean_absolute_error: 0.0653 - val_loss: 0.0845 - val_mean_absolute_error: 0.0845\n",
      "Epoch 61/80\n",
      "51/51 [==============================] - 0s 9ms/step - loss: 0.0653 - mean_absolute_error: 0.0653 - val_loss: 0.0845 - val_mean_absolute_error: 0.0845\n",
      "Epoch 62/80\n",
      "51/51 [==============================] - 0s 9ms/step - loss: 0.0652 - mean_absolute_error: 0.0652 - val_loss: 0.0844 - val_mean_absolute_error: 0.0844\n",
      "Epoch 63/80\n",
      "51/51 [==============================] - 0s 9ms/step - loss: 0.0652 - mean_absolute_error: 0.0652 - val_loss: 0.0844 - val_mean_absolute_error: 0.0844\n",
      "Epoch 64/80\n",
      "51/51 [==============================] - 0s 8ms/step - loss: 0.0652 - mean_absolute_error: 0.0652 - val_loss: 0.0844 - val_mean_absolute_error: 0.0844\n",
      "Epoch 65/80\n",
      "51/51 [==============================] - 0s 8ms/step - loss: 0.0652 - mean_absolute_error: 0.0652 - val_loss: 0.0844 - val_mean_absolute_error: 0.0844\n",
      "Epoch 66/80\n",
      "51/51 [==============================] - 0s 8ms/step - loss: 0.0652 - mean_absolute_error: 0.0652 - val_loss: 0.0843 - val_mean_absolute_error: 0.0843\n",
      "Epoch 67/80\n",
      "51/51 [==============================] - 0s 8ms/step - loss: 0.0652 - mean_absolute_error: 0.0652 - val_loss: 0.0843 - val_mean_absolute_error: 0.0843\n",
      "Epoch 68/80\n",
      "51/51 [==============================] - 0s 9ms/step - loss: 0.0652 - mean_absolute_error: 0.0652 - val_loss: 0.0843 - val_mean_absolute_error: 0.0843\n",
      "Epoch 69/80\n",
      "51/51 [==============================] - 0s 8ms/step - loss: 0.0652 - mean_absolute_error: 0.0652 - val_loss: 0.0843 - val_mean_absolute_error: 0.0843\n",
      "Epoch 70/80\n",
      "51/51 [==============================] - 0s 9ms/step - loss: 0.0651 - mean_absolute_error: 0.0651 - val_loss: 0.0843 - val_mean_absolute_error: 0.0843\n",
      "Epoch 71/80\n",
      "51/51 [==============================] - 0s 9ms/step - loss: 0.0651 - mean_absolute_error: 0.0651 - val_loss: 0.0842 - val_mean_absolute_error: 0.0842\n",
      "Epoch 72/80\n",
      "51/51 [==============================] - 0s 9ms/step - loss: 0.0651 - mean_absolute_error: 0.0651 - val_loss: 0.0842 - val_mean_absolute_error: 0.0842\n",
      "Epoch 73/80\n",
      "51/51 [==============================] - 0s 9ms/step - loss: 0.0651 - mean_absolute_error: 0.0651 - val_loss: 0.0842 - val_mean_absolute_error: 0.0842\n",
      "Epoch 74/80\n",
      "51/51 [==============================] - 0s 9ms/step - loss: 0.0651 - mean_absolute_error: 0.0651 - val_loss: 0.0842 - val_mean_absolute_error: 0.0842\n",
      "Epoch 75/80\n",
      "51/51 [==============================] - 0s 9ms/step - loss: 0.0651 - mean_absolute_error: 0.0651 - val_loss: 0.0843 - val_mean_absolute_error: 0.0843\n"
     ]
    }
   ],
   "source": [
    "early_stopping = tf.keras.callbacks.EarlyStopping(monitor='val_loss',\n",
    "                                                    patience=2,\n",
    "                                                    mode='min')\n",
    "model.compile(loss=tf.losses.MeanAbsoluteError(),\n",
    "                optimizer=tf.optimizers.Adam(),\n",
    "                metrics=[tf.metrics.MeanAbsoluteError()])\n",
    "#Model training\n",
    "model.fit(multi_window.train, epochs=MAX_EPOCHS,\n",
    "                      validation_data=multi_window.val,\n",
    "         callbacks=[early_stopping])"
   ]
  },
  {
   "cell_type": "code",
   "execution_count": 16,
   "id": "unknown-faculty",
   "metadata": {},
   "outputs": [],
   "source": [
    "#Save training predictions\n",
    "predtrain0 = model.predict(multi_window.train)\n",
    "\n",
    "for i in range(predtrain0.shape[0]):\n",
    "    predtrain0[i] = predtrain0[i] * (maxx - minx) + minx\n",
    "    for j in range(predtrain0.shape[1]):\n",
    "        predtrain0[i][j][0] = np.round(predtrain0[i][j][0])\n",
    "\n",
    "for i in range(predtrain0.shape[1]):\n",
    "    df1 = pd.DataFrame(predtrain0[:,i,:], columns=[\"type0\"])\n",
    "    df2 = pd.DataFrame(date.iloc[list(range(21, (int(n*0.7) - 6)))][:]).reset_index()\n",
    "    df1.join(df2).to_csv('.\\output\\out-train' + str(i + 1) + 't0.csv')"
   ]
  },
  {
   "cell_type": "code",
   "execution_count": 17,
   "id": "baking-section",
   "metadata": {},
   "outputs": [],
   "source": [
    "#Save validation predictions\n",
    "predval0 = model.predict(multi_window.val)\n",
    "\n",
    "for i in range(predval0.shape[0]):\n",
    "    predval0[i] = predval0[i] * (maxx - minx) + minx\n",
    "    for j in range(predval0.shape[1]):\n",
    "        predval0[i][j][0] = np.round(predval0[i][j][0])\n",
    "\n",
    "for i in range(predval0.shape[1]):\n",
    "    df1 = pd.DataFrame(predval0[:,i,:], columns=[\"type0\"])\n",
    "    df2 = pd.DataFrame(date.iloc[list(range(21, (int(n*0.7) - 6)))][:]).reset_index()\n",
    "    df1.join(df2).to_csv('.\\output\\out-val' + str(i + 1) + 't0.csv')"
   ]
  },
  {
   "cell_type": "code",
   "execution_count": 18,
   "id": "specialized-scheduling",
   "metadata": {},
   "outputs": [],
   "source": [
    "#Save testing predictions\n",
    "predtest0 = model.predict(multi_window.test)\n",
    "\n",
    "for i in range(predtest0.shape[0]):\n",
    "    predtest0[i] = predtest0[i] * (maxx - minx) + minx\n",
    "    for j in range(predtest0.shape[1]):\n",
    "        predtest0[i][j][0] = np.round(predtest0[i][j][0])\n",
    "\n",
    "for i in range(predtest0.shape[1]):\n",
    "    df1 = pd.DataFrame(predtest0[:,i,:], columns=[\"type0\"])\n",
    "    df2 = pd.DataFrame(date.iloc[list(range(21 + int(n*0.9), (len(data) - 6)))][:]).reset_index()\n",
    "    df1.join(df2).to_csv('.\\output\\out-test' + str(i + 1) + 't0.csv')"
   ]
  },
  {
   "cell_type": "code",
   "execution_count": 19,
   "id": "stopped-variation",
   "metadata": {},
   "outputs": [],
   "source": [
    "#Save predictions of full dataset\n",
    "predfull0 = model.predict(multi_window.full)\n",
    "\n",
    "for i in range(predfull0.shape[0]):\n",
    "    predfull0[i] = predfull0[i] * (maxx - minx) + minx\n",
    "    for j in range(predfull0.shape[1]):\n",
    "        predfull0[i][j][0] = np.round(predfull0[i][j][0])\n",
    "\n",
    "for i in range(predfull0.shape[1]):\n",
    "    df1 = pd.DataFrame(predfull0[:,i,:], columns=[\"type0\"])\n",
    "    df2 = pd.DataFrame(date.iloc[list(range(21, (len(data) - 6)))][:]).reset_index()\n",
    "    df1.join(df2).to_csv('.\\output\\out-full' + str(i + 1) + 't0.csv')"
   ]
  },
  {
   "cell_type": "markdown",
   "id": "according-killer",
   "metadata": {},
   "source": [
    "### New scenarios"
   ]
  },
  {
   "cell_type": "code",
   "execution_count": 22,
   "id": "union-corpus",
   "metadata": {},
   "outputs": [],
   "source": [
    "date_scenarios = date.iloc[int(n*0.9):]"
   ]
  },
  {
   "cell_type": "code",
   "execution_count": 23,
   "id": "ignored-income",
   "metadata": {},
   "outputs": [],
   "source": [
    "aux_date = pd.Series([date[len(date)-1] + pd.to_timedelta(i, unit='D') for i in range(1, 8)])\n",
    "date_scenarios = pd.concat([date_scenarios, aux_date], ignore_index=True)"
   ]
  },
  {
   "cell_type": "markdown",
   "id": "injured-allah",
   "metadata": {},
   "source": [
    "#### Scenario 1- No rain"
   ]
  },
  {
   "cell_type": "code",
   "execution_count": 110,
   "id": "african-ozone",
   "metadata": {},
   "outputs": [],
   "source": [
    "test_01 = test_0.copy()"
   ]
  },
  {
   "cell_type": "code",
   "execution_count": 111,
   "id": "compressed-highlight",
   "metadata": {
    "scrolled": true
   },
   "outputs": [],
   "source": [
    "test_01.iloc[test_01.shape[0]-14: test_01.shape[0], 1] = 0"
   ]
  },
  {
   "cell_type": "code",
   "execution_count": 112,
   "id": "polyphonic-grocery",
   "metadata": {},
   "outputs": [
    {
     "data": {
      "text/plain": [
       "4058    1\n",
       "4059    1\n",
       "4060    1\n",
       "4061    0\n",
       "4062    1\n",
       "4063    0\n",
       "4064    0\n",
       "4065    0\n",
       "4066    0\n",
       "4067    0\n",
       "4068    0\n",
       "4069    0\n",
       "4070    0\n",
       "4071    0\n",
       "4072    0\n",
       "4073    0\n",
       "4074    0\n",
       "4075    0\n",
       "4076    0\n",
       "4077    0\n",
       "4078    0\n",
       "Name: prec, dtype: category\n",
       "Categories (2, int64): [0, 1]"
      ]
     },
     "execution_count": 112,
     "metadata": {},
     "output_type": "execute_result"
    }
   ],
   "source": [
    "test_01.iloc[test_01.shape[0]-21: test_01.shape[0], 1]"
   ]
  },
  {
   "cell_type": "code",
   "execution_count": 113,
   "id": "tribal-influence",
   "metadata": {},
   "outputs": [],
   "source": [
    "aux1 = pd.DataFrame({\n",
    "    'type0': [-9999999, -99999999, -99999999, -99999999, -99999999, -99999999, -99999999],\n",
    "    'prec': [0, 0, 0, 0, 0, 0, 0],\n",
    "    'wd_mon': [0, 0, 0, 0, 1, 0, 0],\n",
    "    'wd_sat': [0, 0, 1, 0, 0, 0, 0],\n",
    "    'wd_sun': [0, 0, 0, 1, 0, 0, 0],\n",
    "    'wd_thu': [1, 0, 0, 0, 0, 0, 0],\n",
    "    'wd_tue': [0, 0, 0, 0, 0, 1, 0],\n",
    "    'wd_wed': [0, 0, 0, 0, 0, 0, 1]\n",
    "})\n",
    "\n",
    "test_01 = pd.concat([test_01, aux1], ignore_index=True)"
   ]
  },
  {
   "cell_type": "code",
   "execution_count": 114,
   "id": "beginning-timer",
   "metadata": {},
   "outputs": [
    {
     "data": {
      "text/plain": [
       "394    0\n",
       "395    0\n",
       "396    0\n",
       "397    0\n",
       "398    0\n",
       "399    0\n",
       "400    0\n",
       "401    0\n",
       "402    0\n",
       "403    0\n",
       "404    0\n",
       "405    0\n",
       "406    0\n",
       "407    0\n",
       "408    0\n",
       "409    0\n",
       "410    0\n",
       "411    0\n",
       "412    0\n",
       "413    0\n",
       "414    0\n",
       "Name: prec, dtype: int64"
      ]
     },
     "execution_count": 114,
     "metadata": {},
     "output_type": "execute_result"
    }
   ],
   "source": [
    "test_01.iloc[test_01.shape[0]-21: test_01.shape[0], 1]"
   ]
  },
  {
   "cell_type": "code",
   "execution_count": 115,
   "id": "warming-suite",
   "metadata": {},
   "outputs": [],
   "source": [
    "impact_scenario_1 = WindowGenerator(input_width=INPUT_WIDTH,\n",
    "                               label_width=LABEL_WIDTH, shift=OUT_STEPS, test_df=test_01,\n",
    "                              label_columns=[\"type0\"])"
   ]
  },
  {
   "cell_type": "code",
   "execution_count": 116,
   "id": "tracked-cliff",
   "metadata": {},
   "outputs": [],
   "source": [
    "predtest01=model.predict(impact_scenario_1.test)\n",
    "\n",
    "for i in range(predtest01.shape[0]):\n",
    "    predtest01[i]=predtest01[i]*(maxx-minx)+minx\n",
    "    for j in range(predtest01.shape[1]):\n",
    "        predtest01[i][j][0]=np.round(predtest01[i][j][0])\n",
    "\n",
    "for i in range(predtest01.shape[1]):\n",
    "    df1=pd.DataFrame(predtest01[:,i,:],columns=[\"type0\"])\n",
    "    df2=pd.DataFrame(date_scenarios.iloc[list(range(21,(len(date_scenarios)-6)))][:]).reset_index()\n",
    "    df1.join(df2).to_csv('.\\output\\out-test-scenario1'+str(i+1)+'t0.csv')"
   ]
  },
  {
   "cell_type": "markdown",
   "id": "dying-scheduling",
   "metadata": {},
   "source": [
    "## Scenario 2- Heavy rain"
   ]
  },
  {
   "cell_type": "code",
   "execution_count": 117,
   "id": "alleged-driving",
   "metadata": {},
   "outputs": [],
   "source": [
    "test_02 = test_0.copy()"
   ]
  },
  {
   "cell_type": "code",
   "execution_count": 118,
   "id": "victorian-singer",
   "metadata": {},
   "outputs": [
    {
     "data": {
      "text/plain": [
       "4058    1\n",
       "4059    1\n",
       "4060    1\n",
       "4061    0\n",
       "4062    1\n",
       "4063    0\n",
       "4064    0\n",
       "4065    1\n",
       "4066    1\n",
       "4067    1\n",
       "4068    1\n",
       "4069    0\n",
       "4070    0\n",
       "4071    0\n",
       "4072    0\n",
       "4073    1\n",
       "4074    1\n",
       "4075    0\n",
       "4076    1\n",
       "4077    1\n",
       "4078    1\n",
       "Name: prec, dtype: category\n",
       "Categories (2, int64): [0, 1]"
      ]
     },
     "execution_count": 118,
     "metadata": {},
     "output_type": "execute_result"
    }
   ],
   "source": [
    "test_02.iloc[test_02.shape[0]-21: test_02.shape[0], 1] "
   ]
  },
  {
   "cell_type": "code",
   "execution_count": 119,
   "id": "friendly-minneapolis",
   "metadata": {
    "scrolled": true
   },
   "outputs": [],
   "source": [
    "test_02.iloc[test_02.shape[0]-14: test_02.shape[0], 1] = 1"
   ]
  },
  {
   "cell_type": "code",
   "execution_count": 120,
   "id": "intelligent-cricket",
   "metadata": {},
   "outputs": [
    {
     "data": {
      "text/plain": [
       "4058    1\n",
       "4059    1\n",
       "4060    1\n",
       "4061    0\n",
       "4062    1\n",
       "4063    0\n",
       "4064    0\n",
       "4065    1\n",
       "4066    1\n",
       "4067    1\n",
       "4068    1\n",
       "4069    1\n",
       "4070    1\n",
       "4071    1\n",
       "4072    1\n",
       "4073    1\n",
       "4074    1\n",
       "4075    1\n",
       "4076    1\n",
       "4077    1\n",
       "4078    1\n",
       "Name: prec, dtype: category\n",
       "Categories (2, int64): [0, 1]"
      ]
     },
     "execution_count": 120,
     "metadata": {},
     "output_type": "execute_result"
    }
   ],
   "source": [
    "test_02.iloc[test_02.shape[0]-21: test_02.shape[0], 1]"
   ]
  },
  {
   "cell_type": "code",
   "execution_count": 121,
   "id": "fifth-attempt",
   "metadata": {},
   "outputs": [],
   "source": [
    "aux2 = pd.DataFrame({\n",
    "    'type0': [0, 0, 0, 0, 0, 0, 0],\n",
    "    'prec': [1, 1, 1, 1, 1, 1, 1],\n",
    "    'wd_mon': [0, 0, 0, 0, 1, 0, 0],\n",
    "    'wd_sat': [0, 0, 1, 0, 0, 0, 0],\n",
    "    'wd_sun': [0, 0, 0, 1, 0, 0, 0],\n",
    "    'wd_thu': [1, 0, 0, 0, 0, 0, 0],\n",
    "    'wd_tue': [0, 0, 0, 0, 0, 1, 0],\n",
    "    'wd_wed': [0, 0, 0, 0, 0, 0, 1]\n",
    "})\n",
    "\n",
    "test_02 = pd.concat([test_02, aux2], ignore_index=True)"
   ]
  },
  {
   "cell_type": "code",
   "execution_count": 122,
   "id": "annual-grounds",
   "metadata": {},
   "outputs": [],
   "source": [
    "impact_scenario_2 = WindowGenerator(input_width=INPUT_WIDTH,\n",
    "                               label_width=LABEL_WIDTH, shift=OUT_STEPS, test_df=test_02,\n",
    "                              label_columns=[\"type0\"])"
   ]
  },
  {
   "cell_type": "code",
   "execution_count": 123,
   "id": "tribal-press",
   "metadata": {},
   "outputs": [],
   "source": [
    "predtest02=model.predict(impact_scenario_2.test)\n",
    "\n",
    "for i in range(predtest02.shape[0]):\n",
    "    predtest02[i]=predtest02[i]*(maxx-minx)+minx\n",
    "    for j in range(predtest02.shape[1]):\n",
    "        predtest02[i][j][0]=np.round(predtest02[i][j][0])\n",
    "\n",
    "for i in range(predtest02.shape[1]):\n",
    "    df1=pd.DataFrame(predtest02[:,i,:],columns=[\"type0\"])\n",
    "    df2=pd.DataFrame(date_scenarios.iloc[list(range(21,(len(date_scenarios)-6)))][:]).reset_index()\n",
    "    df1.join(df2).to_csv('.\\output\\out-test-scenario2'+str(i+1)+'t0.csv')"
   ]
  },
  {
   "cell_type": "code",
   "execution_count": null,
   "id": "incorrect-ecuador",
   "metadata": {},
   "outputs": [],
   "source": []
  }
 ],
 "metadata": {
  "kernelspec": {
   "display_name": "Python 3",
   "language": "python",
   "name": "python3"
  },
  "language_info": {
   "codemirror_mode": {
    "name": "ipython",
    "version": 3
   },
   "file_extension": ".py",
   "mimetype": "text/x-python",
   "name": "python",
   "nbconvert_exporter": "python",
   "pygments_lexer": "ipython3",
   "version": "3.8.5"
  }
 },
 "nbformat": 4,
 "nbformat_minor": 5
}
