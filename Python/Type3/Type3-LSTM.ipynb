{
 "cells": [
  {
   "cell_type": "code",
   "execution_count": 1,
   "id": "liberal-orlando",
   "metadata": {},
   "outputs": [],
   "source": [
    "#Import libraries\n",
    "import numpy as np\n",
    "import pandas as pd\n",
    "import tensorflow as tf"
   ]
  },
  {
   "cell_type": "code",
   "execution_count": 2,
   "id": "collected-times",
   "metadata": {},
   "outputs": [],
   "source": [
    "#Download data\n",
    "data = pd.read_csv(\"../calls_final.csv\")"
   ]
  },
  {
   "cell_type": "code",
   "execution_count": 3,
   "id": "ordered-samuel",
   "metadata": {},
   "outputs": [],
   "source": [
    "#Preprocessing\n",
    "data = data.drop([\"Unnamed: 0\",\"Unnamed: 0.1\",\"tmed\",\"tmin\",\"tmax\",\"velmedia\",\"racha\"],axis=1)"
   ]
  },
  {
   "cell_type": "code",
   "execution_count": 4,
   "id": "major-powell",
   "metadata": {},
   "outputs": [],
   "source": [
    "data[\"type0\"] = data[\"type0\"].astype(np.int32)\n",
    "data[\"type1\"] = data[\"type1\"].astype(np.int32)\n",
    "data[\"type2\"] = data[\"type2\"].astype(np.int32)\n",
    "data[\"type3\"] = data[\"type3\"].astype(np.int32)\n",
    "data[\"wd\"] = data[\"wd\"].astype(\"category\")\n",
    "data[\"prec\"] = data[\"prec\"].astype(\"int\").astype(\"category\")"
   ]
  },
  {
   "cell_type": "code",
   "execution_count": 5,
   "id": "attractive-metallic",
   "metadata": {},
   "outputs": [],
   "source": [
    "date = data[\"d\"].astype(\"str\")+\"-\"+data[\"m\"].astype(\"str\")+\"-\"+(data[\"y\"]+6).astype(\"str\")\n",
    "date = pd.to_datetime(date, dayfirst=True, format='%d-%m-%Y')\n",
    "data = data.drop([\"d\",\"y\",'m'],axis=1)"
   ]
  },
  {
   "cell_type": "code",
   "execution_count": 6,
   "id": "awful-effectiveness",
   "metadata": {},
   "outputs": [],
   "source": [
    "data = data.drop([\"type0\",\"type1\",\"type2\"],axis=1)"
   ]
  },
  {
   "cell_type": "code",
   "execution_count": 7,
   "id": "handy-disposal",
   "metadata": {},
   "outputs": [],
   "source": [
    "data = pd.concat([data.drop(\"wd\",axis=1), pd.get_dummies(data['wd'],prefix=\"wd\",drop_first=True)], axis=1)"
   ]
  },
  {
   "cell_type": "code",
   "execution_count": 8,
   "id": "primary-escape",
   "metadata": {},
   "outputs": [],
   "source": [
    "col=data.columns\n",
    "\n",
    "n = len(data)\n",
    "train_0 = data[0:int(n*0.7)]\n",
    "val_0 = data[int(n*0.7):int(n*0.9)]\n",
    "test_0 = data[int(n*0.9):]"
   ]
  },
  {
   "cell_type": "code",
   "execution_count": 9,
   "id": "intelligent-spokesman",
   "metadata": {},
   "outputs": [
    {
     "name": "stdout",
     "output_type": "stream",
     "text": [
      "Training data: from 2007-09-01 00:00:00 to 2015-06-25 00:00:00\n",
      "Validation data: from 2015-06-26 00:00:00 to 2017-09-18 00:00:00\n",
      "Testing data: from 2017-09-19 00:00:00 to 2018-10-31 00:00:00\n"
     ]
    }
   ],
   "source": [
    "print(f'Training data: from {min(date[0:int(n*0.7)])} to {max(date[0:int(n*0.7)])}')\n",
    "print(f'Validation data: from {min(date[int(n*0.7):int(n*0.9)])} to {max(date[int(n*0.7):int(n*0.9)])}')\n",
    "print(f'Testing data: from {min(date[int(n*0.9):])} to {max(date[int(n*0.9):])}')"
   ]
  },
  {
   "cell_type": "code",
   "execution_count": 10,
   "id": "hidden-third",
   "metadata": {
    "scrolled": true
   },
   "outputs": [
    {
     "name": "stderr",
     "output_type": "stream",
     "text": [
      "<ipython-input-10-12bdc9b6a721>:4: SettingWithCopyWarning: \n",
      "A value is trying to be set on a copy of a slice from a DataFrame.\n",
      "Try using .loc[row_indexer,col_indexer] = value instead\n",
      "\n",
      "See the caveats in the documentation: https://pandas.pydata.org/pandas-docs/stable/user_guide/indexing.html#returning-a-view-versus-a-copy\n",
      "  train_0[\"type3\"] = (train_0[\"type3\"]-minx)/(maxx-minx)\n",
      "<ipython-input-10-12bdc9b6a721>:5: SettingWithCopyWarning: \n",
      "A value is trying to be set on a copy of a slice from a DataFrame.\n",
      "Try using .loc[row_indexer,col_indexer] = value instead\n",
      "\n",
      "See the caveats in the documentation: https://pandas.pydata.org/pandas-docs/stable/user_guide/indexing.html#returning-a-view-versus-a-copy\n",
      "  val_0[\"type3\"] = (val_0[\"type3\"]-minx)/(maxx-minx)\n",
      "<ipython-input-10-12bdc9b6a721>:6: SettingWithCopyWarning: \n",
      "A value is trying to be set on a copy of a slice from a DataFrame.\n",
      "Try using .loc[row_indexer,col_indexer] = value instead\n",
      "\n",
      "See the caveats in the documentation: https://pandas.pydata.org/pandas-docs/stable/user_guide/indexing.html#returning-a-view-versus-a-copy\n",
      "  test_0[\"type3\"] = (test_0[\"type3\"]-minx)/(maxx-minx)\n"
     ]
    }
   ],
   "source": [
    "minx = min(train_0[\"type3\"])\n",
    "maxx = max(train_0[\"type3\"])\n",
    "\n",
    "train_0[\"type3\"] = (train_0[\"type3\"]-minx)/(maxx-minx)\n",
    "val_0[\"type3\"] = (val_0[\"type3\"]-minx)/(maxx-minx)\n",
    "test_0[\"type3\"] = (test_0[\"type3\"]-minx)/(maxx-minx)\n",
    "data[\"type3\"] = (data[\"type3\"]-minx)/(maxx-minx)"
   ]
  },
  {
   "cell_type": "code",
   "execution_count": 11,
   "id": "american-apartment",
   "metadata": {},
   "outputs": [],
   "source": [
    "# Window Generator for everything\n",
    "class WindowGenerator():\n",
    "    def __init__(self, input_width, label_width, shift, train_df, \n",
    "                 val_df, test_df, full_df, label_columns=None):\n",
    "        '''\n",
    "        Function to initialize the creation of the windows for the neural network.\n",
    "        \n",
    "        Args:\n",
    "            input_width (int): Number of days for each window.\n",
    "            label_width (int): Days to predict with the window.\n",
    "            shift (int): Days to predict needed to add to the total window size.\n",
    "            train_df (pd.DataFrame): Dataframe with the training data already normalize.\n",
    "            val_df (pd.DataFrame): Dataframe with the validation data already normalize.\n",
    "            test_df (pd.DataFrame): Dataframe with the testing data already normalize.\n",
    "            full_df (pd.DataFrame): Dataframe with the full dataset already normalize.\n",
    "            label_columns (list): list with the columns of the Dataframe to be our target variable.\n",
    "        '''\n",
    "        # Store the raw data.\n",
    "        self.train_df = train_df\n",
    "        self.val_df = val_df\n",
    "        self.test_df = test_df\n",
    "        self.full_df = full_df\n",
    "        # Work out the label column indices.\n",
    "        self.label_columns = label_columns\n",
    "        if label_columns is not None:\n",
    "            self.label_columns_indices = {name: i for i, name in\n",
    "                                        enumerate(label_columns)}\n",
    "        self.column_indices = {name: i for i, name in\n",
    "                               enumerate(train_df.columns)}\n",
    "        # Work out the window parameters.\n",
    "        self.input_width = input_width #Input of each batch\n",
    "        self.label_width = label_width #Prediction of each batch\n",
    "        self.shift = shift\n",
    "        self.total_window_size = input_width + shift\n",
    "        self.input_slice = slice(0, input_width)\n",
    "        self.input_indices = np.arange(self.total_window_size)[self.input_slice]\n",
    "        self.label_start = self.total_window_size - self.label_width\n",
    "        self.labels_slice = slice(self.label_start, None)\n",
    "        self.label_indices = np.arange(self.total_window_size)[self.labels_slice]\n",
    "    def __repr__(self):\n",
    "        '''\n",
    "        Function to print the overall information of the windows\n",
    "        '''\n",
    "        return '\\n'.join([\n",
    "            f'Total window size: {self.total_window_size}',\n",
    "            f'Input indices: {self.input_indices}',\n",
    "            f'Label indices: {self.label_indices}',\n",
    "            f'Label column name(s): {self.label_columns}'])\n",
    "def split_window(self, features):\n",
    "    '''\n",
    "    Function to split the inputs and labels (targets) windows.\n",
    "    '''\n",
    "    inputs = features[:, self.input_slice, :]\n",
    "    labels = features[:, self.labels_slice, :]\n",
    "    if self.label_columns is not None:\n",
    "        labels = tf.stack(\n",
    "            [labels[:, :, self.column_indices[name]] for name in self.label_columns],\n",
    "            axis=-1)\n",
    "    # Slicing doesn't preserve static shape information, so set the shapes\n",
    "    # manually. This way the `tf.data.Datasets` are easier to inspect.\n",
    "    inputs.set_shape([None, self.input_width, None])\n",
    "    labels.set_shape([None, self.label_width, None])\n",
    "    return inputs, labels\n",
    "\n",
    "WindowGenerator.split_window = split_window\n",
    "\n",
    "\n",
    "def make_dataset(self, data):\n",
    "    '''\n",
    "    Function to create the dataset splitted by inputs and labels (targets) and by temporal batches.\n",
    "    '''\n",
    "    data = np.array(data, dtype=np.float32)\n",
    "    ds = tf.keras.preprocessing.timeseries_dataset_from_array(\n",
    "      data=data,\n",
    "      targets=None,\n",
    "      sequence_length=self.total_window_size,\n",
    "      sequence_stride=1,\n",
    "      batch_size=16,)\n",
    "    ds = ds.map(self.split_window)\n",
    "    return ds\n",
    "\n",
    "WindowGenerator.make_dataset = make_dataset\n",
    "\n",
    "@property\n",
    "def train(self):\n",
    "    '''\n",
    "    Function to create the temporal dataset for the training set.\n",
    "    '''\n",
    "    return self.make_dataset(self.train_df)\n",
    "\n",
    "@property\n",
    "def val(self):\n",
    "    '''\n",
    "    Function to create the temporal dataset for the validation set.\n",
    "    '''\n",
    "    return self.make_dataset(self.val_df)\n",
    "\n",
    "@property\n",
    "def test(self):\n",
    "    '''\n",
    "    Function to create the temporal dataset for the testing set.\n",
    "    '''    \n",
    "    return self.make_dataset(self.test_df)\n",
    "\n",
    "@property\n",
    "def full(self):\n",
    "    '''\n",
    "    Function to create the temporal dataset for the full set.\n",
    "    '''    \n",
    "    return self.make_dataset(self.full_df)\n",
    "\n",
    "WindowGenerator.train = train\n",
    "WindowGenerator.val = val\n",
    "WindowGenerator.test = test\n",
    "WindowGenerator.full = full\n"
   ]
  },
  {
   "cell_type": "code",
   "execution_count": 12,
   "id": "detected-swaziland",
   "metadata": {},
   "outputs": [],
   "source": [
    "tf.random.set_seed(613)\n",
    "\n",
    "MAX_EPOCHS = 80\n",
    "INPUT_WIDTH = 7*3 # Days of input in each batch\n",
    "OUT_STEPS = 7\n",
    "LABEL_WIDTH = 7 # Days of predictions\n",
    "num_features=8\n",
    "multi_window = WindowGenerator(input_width=INPUT_WIDTH, label_width=LABEL_WIDTH, shift=OUT_STEPS,\n",
    "                               train_df=train_0, val_df=val_0, test_df=test_0, full_df = data,\n",
    "                              label_columns=[\"type3\"])"
   ]
  },
  {
   "cell_type": "code",
   "execution_count": 13,
   "id": "searching-letter",
   "metadata": {},
   "outputs": [],
   "source": [
    "model=tf.keras.Sequential()\n",
    "\n",
    "model.add(tf.keras.layers.Bidirectional(tf.keras.layers.LSTM(16, \n",
    "                             return_sequences=False,\n",
    "#                             recurrent_dropout = 0.7,\n",
    "#                             dropout = 0.7,\n",
    "                                activation=\"relu\"\n",
    "                            )))\n",
    "\n",
    "model.add(tf.keras.layers.Dense(OUT_STEPS*1,\n",
    "                          kernel_initializer=tf.initializers.zeros))\n",
    "\n",
    "model.add(tf.keras.layers.Reshape([OUT_STEPS, 1]))"
   ]
  },
  {
   "cell_type": "code",
   "execution_count": 14,
   "id": "informative-basic",
   "metadata": {},
   "outputs": [
    {
     "name": "stdout",
     "output_type": "stream",
     "text": [
      "WARNING:tensorflow:AutoGraph could not transform <bound method split_window of Total window size: 28\n",
      "Input indices: [ 0  1  2  3  4  5  6  7  8  9 10 11 12 13 14 15 16 17 18 19 20]\n",
      "Label indices: [21 22 23 24 25 26 27]\n",
      "Label column name(s): ['type3']> and will run it as-is.\n",
      "Please report this to the TensorFlow team. When filing the bug, set the verbosity to 10 (on Linux, `export AUTOGRAPH_VERBOSITY=10`) and attach the full output.\n",
      "Cause: module 'gast' has no attribute 'Index'\n",
      "To silence this warning, decorate the function with @tf.autograph.experimental.do_not_convert\n",
      "WARNING: AutoGraph could not transform <bound method split_window of Total window size: 28\n",
      "Input indices: [ 0  1  2  3  4  5  6  7  8  9 10 11 12 13 14 15 16 17 18 19 20]\n",
      "Label indices: [21 22 23 24 25 26 27]\n",
      "Label column name(s): ['type3']> and will run it as-is.\n",
      "Please report this to the TensorFlow team. When filing the bug, set the verbosity to 10 (on Linux, `export AUTOGRAPH_VERBOSITY=10`) and attach the full output.\n",
      "Cause: module 'gast' has no attribute 'Index'\n",
      "To silence this warning, decorate the function with @tf.autograph.experimental.do_not_convert\n",
      "Epoch 1/80\n",
      "177/177 [==============================] - 1s 7ms/step - loss: 0.0409 - mean_absolute_error: 0.0409 - val_loss: 0.0756 - val_mean_absolute_error: 0.0756\n",
      "Epoch 2/80\n",
      "177/177 [==============================] - 1s 5ms/step - loss: 0.0407 - mean_absolute_error: 0.0407 - val_loss: 0.0756 - val_mean_absolute_error: 0.0756\n",
      "Epoch 3/80\n",
      "177/177 [==============================] - 1s 6ms/step - loss: 0.0406 - mean_absolute_error: 0.0406 - val_loss: 0.0756 - val_mean_absolute_error: 0.0756\n",
      "Epoch 4/80\n",
      "177/177 [==============================] - 1s 6ms/step - loss: 0.0406 - mean_absolute_error: 0.0406 - val_loss: 0.0756 - val_mean_absolute_error: 0.0756\n",
      "Epoch 5/80\n",
      "177/177 [==============================] - 1s 6ms/step - loss: 0.0406 - mean_absolute_error: 0.0406 - val_loss: 0.0756 - val_mean_absolute_error: 0.0756\n"
     ]
    },
    {
     "data": {
      "text/plain": [
       "<tensorflow.python.keras.callbacks.History at 0x2072814c7f0>"
      ]
     },
     "execution_count": 14,
     "metadata": {},
     "output_type": "execute_result"
    }
   ],
   "source": [
    "early_stopping = tf.keras.callbacks.EarlyStopping(monitor='val_loss',\n",
    "                                                    patience=4,\n",
    "                                                    mode='min')\n",
    "model.compile(loss=tf.losses.MeanAbsoluteError(),\n",
    "                optimizer=tf.optimizers.Adam(),\n",
    "                metrics=[tf.metrics.MeanAbsoluteError()])\n",
    "\n",
    "#model training\n",
    "model.fit(multi_window.train, epochs=MAX_EPOCHS,\n",
    "                      validation_data=multi_window.val,\n",
    "         callbacks=[early_stopping])"
   ]
  },
  {
   "cell_type": "code",
   "execution_count": 15,
   "id": "unknown-faculty",
   "metadata": {},
   "outputs": [],
   "source": [
    "predtrain0=model.predict(multi_window.train)\n",
    "\n",
    "for i in range(predtrain0.shape[0]):\n",
    "    predtrain0[i]=predtrain0[i]*(maxx-minx)+minx\n",
    "    for j in range(predtrain0.shape[1]):\n",
    "        predtrain0[i][j][0]=np.round(predtrain0[i][j][0])\n",
    "\n",
    "for i in range(predtrain0.shape[1]):\n",
    "    df1=pd.DataFrame(predtrain0[:,i,:],columns=[\"type3\"])\n",
    "    df2=pd.DataFrame(date.iloc[list(range(21,(int(n*0.7)-6)))][:]).reset_index()\n",
    "    df1.join(df2).to_csv('.\\output\\out-train'+str(i+1)+'t3.csv')"
   ]
  },
  {
   "cell_type": "code",
   "execution_count": 16,
   "id": "baking-section",
   "metadata": {},
   "outputs": [],
   "source": [
    "predval0=model.predict(multi_window.val)\n",
    "\n",
    "for i in range(predval0.shape[0]):\n",
    "    predval0[i]=predval0[i]*(maxx-minx)+minx\n",
    "    for j in range(predval0.shape[1]):\n",
    "        predval0[i][j][0]=np.round(predval0[i][j][0])\n",
    "\n",
    "for i in range(predval0.shape[1]):\n",
    "    df1=pd.DataFrame(predval0[:,i,:],columns=[\"type3\"])\n",
    "    df2=pd.DataFrame(date.iloc[list(range(21,(int(n*0.7)-6)))][:]).reset_index()\n",
    "    df1.join(df2).to_csv('.\\output\\out-val'+str(i+1)+'t3.csv')"
   ]
  },
  {
   "cell_type": "code",
   "execution_count": 17,
   "id": "specialized-scheduling",
   "metadata": {},
   "outputs": [],
   "source": [
    "predtest0=model.predict(multi_window.test)\n",
    "\n",
    "for i in range(predtest0.shape[0]):\n",
    "    predtest0[i]=predtest0[i]*(maxx-minx)+minx\n",
    "    for j in range(predtest0.shape[1]):\n",
    "        predtest0[i][j][0]=np.round(predtest0[i][j][0])\n",
    "\n",
    "for i in range(predtest0.shape[1]):\n",
    "    df1=pd.DataFrame(predtest0[:,i,:],columns=[\"type3\"])\n",
    "    df2=pd.DataFrame(date.iloc[list(range(21+int(n*0.9),(len(data)-6)))][:]).reset_index()\n",
    "    df1.join(df2).to_csv('.\\output\\out-test'+str(i+1)+'t3.csv')"
   ]
  },
  {
   "cell_type": "code",
   "execution_count": 18,
   "id": "stopped-variation",
   "metadata": {},
   "outputs": [],
   "source": [
    "predfull0=model.predict(multi_window.full)\n",
    "\n",
    "for i in range(predfull0.shape[0]):\n",
    "    predfull0[i]=predfull0[i]*(maxx-minx)+minx\n",
    "    for j in range(predfull0.shape[1]):\n",
    "        predfull0[i][j][0]=np.round(predfull0[i][j][0])\n",
    "\n",
    "for i in range(predfull0.shape[1]):\n",
    "    df1=pd.DataFrame(predfull0[:,i,:],columns=[\"type3\"])\n",
    "    df2=pd.DataFrame(date.iloc[list(range(21,(len(data)-6)))][:]).reset_index()\n",
    "    df1.join(df2).to_csv('.\\output\\out-full'+str(i+1)+'t3.csv')"
   ]
  }
 ],
 "metadata": {
  "kernelspec": {
   "display_name": "Python 3",
   "language": "python",
   "name": "python3"
  },
  "language_info": {
   "codemirror_mode": {
    "name": "ipython",
    "version": 3
   },
   "file_extension": ".py",
   "mimetype": "text/x-python",
   "name": "python",
   "nbconvert_exporter": "python",
   "pygments_lexer": "ipython3",
   "version": "3.8.5"
  }
 },
 "nbformat": 4,
 "nbformat_minor": 5
}
