{
 "cells": [
  {
   "cell_type": "code",
   "execution_count": 21,
   "id": "liberal-orlando",
   "metadata": {},
   "outputs": [],
   "source": [
    "## Part of this code comes from:\n",
    "## https://www.tensorflow.org/tutorials/structured_data/time_series\n",
    "\n",
    "\n",
    "import os\n",
    "os.environ['TF_XLA_FLAGS'] = '--tf_xla_enable_xla_devices'\n",
    "import datetime\n",
    "import IPython\n",
    "import IPython.display\n",
    "import matplotlib as mpl\n",
    "import matplotlib.pyplot as plt\n",
    "import numpy as np\n",
    "import pandas as pd\n",
    "import seaborn as sns\n",
    "import tensorflow as tf\n",
    "from sklearn.preprocessing import MinMaxScaler"
   ]
  },
  {
   "cell_type": "code",
   "execution_count": 22,
   "id": "collected-times",
   "metadata": {},
   "outputs": [],
   "source": [
    "data=pd.read_csv(\"../calls_final.csv\")"
   ]
  },
  {
   "cell_type": "code",
   "execution_count": 23,
   "id": "ordered-samuel",
   "metadata": {},
   "outputs": [],
   "source": [
    "data=data.drop([\"Unnamed: 0\",\"Unnamed: 0.1\",\"tmed\",\"tmin\",\"tmax\",\"velmedia\",\"racha\"],axis=1)"
   ]
  },
  {
   "cell_type": "code",
   "execution_count": 24,
   "id": "major-powell",
   "metadata": {},
   "outputs": [],
   "source": [
    "data[\"type0\"]=data[\"type0\"].astype(np.int32)\n",
    "data[\"type1\"]=data[\"type1\"].astype(np.int32)\n",
    "data[\"type2\"]=data[\"type2\"].astype(np.int32)\n",
    "data[\"type3\"]=data[\"type3\"].astype(np.int32)\n",
    "# data[\"tmin\"]=data[\"tmin\"].astype(np.int32)\n",
    "# data[\"tmax\"]=data[\"tmax\"].astype(np.int32)\n",
    "data[\"wd\"]=data[\"wd\"].astype(\"category\")\n",
    "data[\"prec\"]=data[\"prec\"].astype(\"int\").astype(\"category\")"
   ]
  },
  {
   "cell_type": "code",
   "execution_count": 25,
   "id": "attractive-metallic",
   "metadata": {},
   "outputs": [],
   "source": [
    "date=data[\"d\"].astype(\"str\")+\"-\"+data[\"m\"].astype(\"str\")+\"-\"+(data[\"y\"]+6).astype(\"str\")\n",
    "date=pd.to_datetime(date,dayfirst=True)\n",
    "data=data.drop([\"d\",\"y\",\"m\"],axis=1)"
   ]
  },
  {
   "cell_type": "code",
   "execution_count": 26,
   "id": "awful-effectiveness",
   "metadata": {},
   "outputs": [],
   "source": [
    "data=data.drop([\"type0\",\"type1\",\"type2\"],axis=1)"
   ]
  },
  {
   "cell_type": "code",
   "execution_count": 27,
   "id": "handy-disposal",
   "metadata": {},
   "outputs": [],
   "source": [
    "data = pd.concat([data.drop(\"wd\",axis=1), pd.get_dummies(data['wd'],prefix=\"wd\",drop_first=True)], axis=1)"
   ]
  },
  {
   "cell_type": "code",
   "execution_count": 28,
   "id": "primary-escape",
   "metadata": {},
   "outputs": [],
   "source": [
    "col=data.columns\n",
    "\n",
    "n = len(data)\n",
    "train_0 = data[0:int(n*0.7)]\n",
    "val_0 = data[int(n*0.7):int(n*0.9)]\n",
    "test_0 = data[int(n*0.9):]"
   ]
  },
  {
   "cell_type": "code",
   "execution_count": 29,
   "id": "hidden-third",
   "metadata": {},
   "outputs": [
    {
     "name": "stderr",
     "output_type": "stream",
     "text": [
      "<ipython-input-29-a20bee422705>:4: SettingWithCopyWarning: \n",
      "A value is trying to be set on a copy of a slice from a DataFrame.\n",
      "Try using .loc[row_indexer,col_indexer] = value instead\n",
      "\n",
      "See the caveats in the documentation: https://pandas.pydata.org/pandas-docs/stable/user_guide/indexing.html#returning-a-view-versus-a-copy\n",
      "  train_0[\"type3\"]=(train_0[\"type3\"]-minx)/(maxx-minx)\n",
      "<ipython-input-29-a20bee422705>:5: SettingWithCopyWarning: \n",
      "A value is trying to be set on a copy of a slice from a DataFrame.\n",
      "Try using .loc[row_indexer,col_indexer] = value instead\n",
      "\n",
      "See the caveats in the documentation: https://pandas.pydata.org/pandas-docs/stable/user_guide/indexing.html#returning-a-view-versus-a-copy\n",
      "  val_0[\"type3\"]=(val_0[\"type3\"]-minx)/(maxx-minx)\n",
      "<ipython-input-29-a20bee422705>:6: SettingWithCopyWarning: \n",
      "A value is trying to be set on a copy of a slice from a DataFrame.\n",
      "Try using .loc[row_indexer,col_indexer] = value instead\n",
      "\n",
      "See the caveats in the documentation: https://pandas.pydata.org/pandas-docs/stable/user_guide/indexing.html#returning-a-view-versus-a-copy\n",
      "  test_0[\"type3\"]=(test_0[\"type3\"]-minx)/(maxx-minx)\n"
     ]
    }
   ],
   "source": [
    "minx=min(train_0.type3)\n",
    "maxx=max(train_0.type3)\n",
    "\n",
    "train_0[\"type3\"]=(train_0[\"type3\"]-minx)/(maxx-minx)\n",
    "val_0[\"type3\"]=(val_0[\"type3\"]-minx)/(maxx-minx)\n",
    "test_0[\"type3\"]=(test_0[\"type3\"]-minx)/(maxx-minx)\n",
    "data[\"type3\"]=(data[\"type3\"]-minx)/(maxx-minx)"
   ]
  },
  {
   "cell_type": "code",
   "execution_count": 30,
   "id": "compact-liabilities",
   "metadata": {},
   "outputs": [],
   "source": [
    "# Window Generator for everything\n",
    "class WindowGenerator():\n",
    "  def __init__(self, input_width, label_width, shift,\n",
    "               train_df=train_0, val_df=val_0, test_df=test_0,\n",
    "               full_df=data,label_columns=None):\n",
    "    # Store the raw data.\n",
    "    self.train_df = train_df\n",
    "    self.val_df = val_df\n",
    "    self.test_df = test_df\n",
    "    self.full_df = full_df\n",
    "    # Work out the label column indices.\n",
    "    self.label_columns = label_columns\n",
    "    if label_columns is not None:\n",
    "      self.label_columns_indices = {name: i for i, name in\n",
    "                                    enumerate(label_columns)}\n",
    "    self.column_indices = {name: i for i, name in\n",
    "                           enumerate(train_df.columns)}\n",
    "    # Work out the window parameters.\n",
    "    self.input_width = input_width #Input of each batch\n",
    "    self.label_width = label_width #Prediction of each batch\n",
    "    self.shift = shift\n",
    "    self.total_window_size = input_width + shift\n",
    "    self.input_slice = slice(0, input_width)\n",
    "    self.input_indices = np.arange(self.total_window_size)[self.input_slice]\n",
    "    self.label_start = self.total_window_size - self.label_width\n",
    "    self.labels_slice = slice(self.label_start, None)\n",
    "    self.label_indices = np.arange(self.total_window_size)[self.labels_slice]\n",
    "  def __repr__(self):\n",
    "    return '\\n'.join([\n",
    "        f'Total window size: {self.total_window_size}',\n",
    "        f'Input indices: {self.input_indices}',\n",
    "        f'Label indices: {self.label_indices}',\n",
    "        f'Label column name(s): {self.label_columns}'])\n",
    "def split_window(self, features):\n",
    "  inputs = features[:, self.input_slice, :]\n",
    "  labels = features[:, self.labels_slice, :]\n",
    "  if self.label_columns is not None:\n",
    "    labels = tf.stack(\n",
    "        [labels[:, :, self.column_indices[name]] for name in self.label_columns],\n",
    "        axis=-1)\n",
    "  # Slicing doesn't preserve static shape information, so set the shapes\n",
    "  # manually. This way the `tf.data.Datasets` are easier to inspect.\n",
    "  inputs.set_shape([None, self.input_width, None])\n",
    "  labels.set_shape([None, self.label_width, None])\n",
    "  return inputs, labels\n",
    "\n",
    "WindowGenerator.split_window = split_window\n",
    "\n",
    "\n",
    "def make_dataset(self, data):\n",
    "  data = np.array(data, dtype=np.float32)\n",
    "  ds = tf.keras.preprocessing.timeseries_dataset_from_array(\n",
    "      data=data,\n",
    "      targets=None,\n",
    "      sequence_length=self.total_window_size,\n",
    "      sequence_stride=1,\n",
    "      batch_size=54,)\n",
    "  ds = ds.map(self.split_window)\n",
    "  return ds\n",
    "\n",
    "WindowGenerator.make_dataset = make_dataset\n",
    "\n",
    "@property\n",
    "def train(self):\n",
    "  return self.make_dataset(self.train_df)\n",
    "\n",
    "@property\n",
    "def val(self):\n",
    "  return self.make_dataset(self.val_df)\n",
    "\n",
    "@property\n",
    "def test(self):\n",
    "  return self.make_dataset(self.test_df)\n",
    "\n",
    "@property\n",
    "def full(self):\n",
    "    return self.make_dataset(self.full_df)\n",
    "@property\n",
    "def example(self):\n",
    "  \"\"\"Get and cache an example batch of `inputs, labels` for plotting.\"\"\"\n",
    "  result = getattr(self, '_example', None)\n",
    "  if result is None:\n",
    "    # No example batch was found, so get one from the `.train` dataset\n",
    "    result = next(iter(self.test))\n",
    "  # And cache it for next time\n",
    "  self._example = result\n",
    "  return result\n",
    "\n",
    "WindowGenerator.train = train\n",
    "WindowGenerator.val = val\n",
    "WindowGenerator.test = test\n",
    "WindowGenerator.full = full\n",
    "WindowGenerator.example = example\n",
    "\n",
    "def plot(self, model=None, plot_col='type3', max_subplots=3):\n",
    "  inputs, labels = self.example\n",
    "  plt.figure(figsize=(12, 8))\n",
    "  plot_col_index = self.column_indices[plot_col]\n",
    "  max_n = min(max_subplots, len(inputs))\n",
    "  for n in range(max_n):\n",
    "    plt.subplot(max_n, 1, n+1)\n",
    "    plt.ylabel(f'{plot_col} [normed]')\n",
    "    plt.plot(self.input_indices, inputs[n, :, plot_col_index],\n",
    "             label='Inputs', marker='.', zorder=-10)\n",
    "\n",
    "    if self.label_columns:\n",
    "      label_col_index = self.label_columns_indices.get(plot_col, None)\n",
    "    else:\n",
    "      label_col_index = plot_col_index\n",
    "\n",
    "    if label_col_index is None:\n",
    "      continue\n",
    "\n",
    "    plt.scatter(self.label_indices, labels[n, :, label_col_index],\n",
    "                edgecolors='k', label='Labels', c='#2ca02c', s=64)\n",
    "    if model is not None:\n",
    "      predictions = model(inputs)\n",
    "      plt.scatter(self.label_indices, predictions[n, :, label_col_index],\n",
    "                  marker='X', edgecolors='k', label='Predictions',\n",
    "                  c='#ff7f0e', s=64)\n",
    "\n",
    "    if n == 0:\n",
    "      plt.legend()\n",
    "\n",
    "  plt.xlabel('Time [h]')\n",
    "\n",
    "WindowGenerator.plot = plot"
   ]
  },
  {
   "cell_type": "code",
   "execution_count": 40,
   "id": "detected-swaziland",
   "metadata": {},
   "outputs": [],
   "source": [
    "tf.random.set_seed(613)\n",
    "\n",
    "MAX_EPOCHS = 80\n",
    "INPUT_WIDTH = 7*3 # Days of input in each batch\n",
    "OUT_STEPS = 7\n",
    "LABEL_WIDTH = 7 # Days of predictions\n",
    "num_features=8\n",
    "multi_window = WindowGenerator(input_width=INPUT_WIDTH,\n",
    "                               label_width=LABEL_WIDTH,shift=OUT_STEPS,train_df=train_0,val_df=val_0,test_df=test_0,\n",
    "                              label_columns=[\"type3\"])"
   ]
  },
  {
   "cell_type": "code",
   "execution_count": 41,
   "id": "searching-letter",
   "metadata": {},
   "outputs": [],
   "source": [
    "model=tf.keras.Sequential()\n",
    "# model.add(tf.keras.layers.Bidirectional(tf.keras.layers.LSTM(32, \n",
    "#                                                              return_sequences=False\n",
    "#                                                              #,recurrent_dropout = 0.25,\n",
    "#                                                              #dropout = 0.2\n",
    "#                                                             )))\n",
    "\n",
    "model.add(tf.keras.layers.Bidirectional(tf.keras.layers.LSTM(32, \n",
    "                             return_sequences=False,\n",
    "                            recurrent_dropout = 0.15,\n",
    "                            dropout = 0.15,\n",
    "                                activation=\"relu\"\n",
    "                            )))\n",
    "\n",
    "model.add(tf.keras.layers.Dense(OUT_STEPS*1,\n",
    "                          kernel_initializer=tf.initializers.zeros,\n",
    "                               #activation=\"relu\"\n",
    "                               ))\n",
    "\n",
    "model.add(tf.keras.layers.Reshape([OUT_STEPS, 1]))"
   ]
  },
  {
   "cell_type": "code",
   "execution_count": 42,
   "id": "informative-basic",
   "metadata": {},
   "outputs": [
    {
     "name": "stdout",
     "output_type": "stream",
     "text": [
      "Epoch 1/80\n",
      "53/53 [==============================] - 1s 17ms/step - loss: 0.0412 - mean_absolute_error: 0.0412 - val_loss: 0.0758 - val_mean_absolute_error: 0.0758\n",
      "Epoch 2/80\n",
      "53/53 [==============================] - 1s 10ms/step - loss: 0.0408 - mean_absolute_error: 0.0408 - val_loss: 0.0756 - val_mean_absolute_error: 0.0756\n",
      "Epoch 3/80\n",
      "53/53 [==============================] - 0s 9ms/step - loss: 0.0407 - mean_absolute_error: 0.0407 - val_loss: 0.0756 - val_mean_absolute_error: 0.0756\n",
      "Epoch 4/80\n",
      "53/53 [==============================] - 1s 11ms/step - loss: 0.0407 - mean_absolute_error: 0.0407 - val_loss: 0.0756 - val_mean_absolute_error: 0.0756\n",
      "Epoch 5/80\n",
      "53/53 [==============================] - 0s 9ms/step - loss: 0.0406 - mean_absolute_error: 0.0406 - val_loss: 0.0756 - val_mean_absolute_error: 0.0756\n",
      "Epoch 6/80\n",
      "53/53 [==============================] - 1s 10ms/step - loss: 0.0406 - mean_absolute_error: 0.0406 - val_loss: 0.0756 - val_mean_absolute_error: 0.0756\n",
      "Epoch 7/80\n",
      "53/53 [==============================] - 1s 10ms/step - loss: 0.0406 - mean_absolute_error: 0.0406 - val_loss: 0.0756 - val_mean_absolute_error: 0.0756\n"
     ]
    },
    {
     "data": {
      "text/plain": [
       "<tensorflow.python.keras.callbacks.History at 0x189ce1df730>"
      ]
     },
     "execution_count": 42,
     "metadata": {},
     "output_type": "execute_result"
    }
   ],
   "source": [
    "early_stopping = tf.keras.callbacks.EarlyStopping(monitor='val_loss',\n",
    "                                                    patience=2,\n",
    "                                                    mode='min')\n",
    "model.compile(loss=tf.losses.MeanAbsoluteError(),\n",
    "                optimizer=tf.optimizers.Adam(),\n",
    "                metrics=[tf.metrics.MeanAbsoluteError()])\n",
    "model.fit(multi_window.train, epochs=MAX_EPOCHS,\n",
    "                      validation_data=multi_window.val,\n",
    "         callbacks=[early_stopping])"
   ]
  },
  {
   "cell_type": "code",
   "execution_count": 43,
   "id": "broke-catering",
   "metadata": {},
   "outputs": [
    {
     "name": "stdout",
     "output_type": "stream",
     "text": [
      "Model: \"sequential_2\"\n",
      "_________________________________________________________________\n",
      "Layer (type)                 Output Shape              Param #   \n",
      "=================================================================\n",
      "bidirectional_2 (Bidirection (None, 64)                10496     \n",
      "_________________________________________________________________\n",
      "dense_2 (Dense)              (None, 7)                 455       \n",
      "_________________________________________________________________\n",
      "reshape_2 (Reshape)          (None, 7, 1)              0         \n",
      "=================================================================\n",
      "Total params: 10,951\n",
      "Trainable params: 10,951\n",
      "Non-trainable params: 0\n",
      "_________________________________________________________________\n"
     ]
    }
   ],
   "source": [
    "model.summary()"
   ]
  },
  {
   "cell_type": "code",
   "execution_count": 44,
   "id": "median-tyler",
   "metadata": {
    "scrolled": true
   },
   "outputs": [
    {
     "data": {
      "image/png": "[encoded data removed]",
      "text/plain": [
       "<Figure size 864x576 with 3 Axes>"
      ]
     },
     "metadata": {
      "needs_background": "light"
     },
     "output_type": "display_data"
    }
   ],
   "source": [
    "multi_window.plot(model,plot_col=\"type3\")"
   ]
  },
  {
   "cell_type": "code",
   "execution_count": 45,
   "id": "unknown-faculty",
   "metadata": {},
   "outputs": [],
   "source": [
    "predtrain0=model.predict(multi_window.train)\n",
    "\n",
    "for i in range(predtrain0.shape[0]):\n",
    "    predtrain0[i]=predtrain0[i]*(maxx-minx)+minx\n",
    "    for j in range(predtrain0.shape[1]):\n",
    "        predtrain0[i][j][0]=np.round(predtrain0[i][j][0])\n",
    "\n",
    "for i in range(predtrain0.shape[1]):\n",
    "    df1=pd.DataFrame(predtrain0[:,i,:],columns=[\"type3\"])\n",
    "    df2=pd.DataFrame(date.iloc[list(range(21,(int(n*0.7)-6)))][:]).reset_index()\n",
    "    df1.join(df2).to_csv('.\\output\\out-train'+str(i+1)+'t3.csv')"
   ]
  },
  {
   "cell_type": "code",
   "execution_count": 46,
   "id": "baking-section",
   "metadata": {},
   "outputs": [],
   "source": [
    "predval0=model.predict(multi_window.val)\n",
    "\n",
    "for i in range(predval0.shape[0]):\n",
    "    predval0[i]=predval0[i]*(maxx-minx)+minx\n",
    "    for j in range(predval0.shape[1]):\n",
    "        predval0[i][j][0]=np.round(predval0[i][j][0])\n",
    "\n",
    "for i in range(predval0.shape[1]):\n",
    "    df1=pd.DataFrame(predval0[:,i,:],columns=[\"type3\"])\n",
    "    df2=pd.DataFrame(date.iloc[list(range(21,(int(n*0.7)-6)))][:]).reset_index()\n",
    "    df1.join(df2).to_csv('.\\output\\out-val'+str(i+1)+'t3.csv')"
   ]
  },
  {
   "cell_type": "code",
   "execution_count": 47,
   "id": "specialized-scheduling",
   "metadata": {},
   "outputs": [],
   "source": [
    "predtest0=model.predict(multi_window.test)\n",
    "\n",
    "for i in range(predtest0.shape[0]):\n",
    "    predtest0[i]=predtest0[i]*(maxx-minx)+minx\n",
    "    for j in range(predtest0.shape[1]):\n",
    "        predtest0[i][j][0]=np.round(predtest0[i][j][0])\n",
    "\n",
    "for i in range(predtest0.shape[1]):\n",
    "    df1=pd.DataFrame(predtest0[:,i,:],columns=[\"type3\"])\n",
    "    df2=pd.DataFrame(date.iloc[list(range(21+int(n*0.9),(len(data)-6)))][:]).reset_index()\n",
    "    df1.join(df2).to_csv('.\\output\\out-test'+str(i+1)+'t3.csv')"
   ]
  },
  {
   "cell_type": "code",
   "execution_count": 48,
   "id": "stopped-variation",
   "metadata": {},
   "outputs": [],
   "source": [
    "predfull0=model.predict(multi_window.full)\n",
    "\n",
    "for i in range(predfull0.shape[0]):\n",
    "    predfull0[i]=predfull0[i]*(maxx-minx)+minx\n",
    "    for j in range(predfull0.shape[1]):\n",
    "        predfull0[i][j][0]=np.round(predfull0[i][j][0])\n",
    "\n",
    "for i in range(predfull0.shape[1]):\n",
    "    df1=pd.DataFrame(predfull0[:,i,:],columns=[\"type3\"])\n",
    "    df2=pd.DataFrame(date.iloc[list(range(21,(len(data)-6)))][:]).reset_index()\n",
    "    df1.join(df2).to_csv('.\\output\\out-full'+str(i+1)+'t3.csv')"
   ]
  }
 ],
 "metadata": {
  "kernelspec": {
   "display_name": "Python 3",
   "language": "python",
   "name": "python3"
  },
  "language_info": {
   "codemirror_mode": {
    "name": "ipython",
    "version": 3
   },
   "file_extension": ".py",
   "mimetype": "text/x-python",
   "name": "python",
   "nbconvert_exporter": "python",
   "pygments_lexer": "ipython3",
   "version": "3.8.5"
  }
 },
 "nbformat": 4,
 "nbformat_minor": 5
}
